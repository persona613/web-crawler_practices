{
 "cells": [
  {
   "cell_type": "markdown",
   "metadata": {},
   "source": [
    "### 靜態網頁 beautifulsoup4\n",
    "**台灣水庫即時水情**  \\\n",
    "https://water.taiwanstat.com/"
   ]
  },
  {
   "cell_type": "code",
   "execution_count": 8,
   "metadata": {},
   "outputs": [
    {
     "name": "stdout",
     "output_type": "stream",
     "text": [
      "<class 'bs4.BeautifulSoup'>\n",
      "<!DOCTYPE html>\n",
      "<html lang=\"zh-TW\" xmlns=\"http://www.w3.org/1999/xhtml\"><head><meta content=\"台灣水庫即時水情\" property=\"og:title\"/><meta content=\"text/html; charset=utf-8\" http-equiv=\"Content-Type\"/><meta content=\"台灣水庫即時水情\" property=\"og:site_name\"/><meta content=\"台灣水庫即時水情-視覺化, 即時蓄水量、水位變化...\" property=\"og:description\"/><meta content=\"http://i.imgur.com/04AFcnA.png\" property=\"og:image\"/><meta content=\"image/png\" property=\"og:image:type\"/><meta content=\"Chi-Hsuan Huang\" name=\"author\"/><meta content=\"Po-An Yang\" name=\"citation_authors\"/><meta content=\"台灣水庫即時水情-視覺化, 即時蓄水量、水位變化\" name=\"description\"/><title>台灣水庫即時水情</title><meta content=\"zh_TW\" property=\"og:locale\"/><meta content=\"width=device-width,initial-scale=1\" name=\"viewport\"/><link href=\"//static.taiwanstat.com/favicon.ico\" rel=\"icon\" type=\"image/png\"/><link href=\"//static.taiwanstat.com/favicon.ico\" rel=\"shortcut icon\" type=\"image/x-icon\"/><link href=\"//static.taiwanstat.com/css/style.min.css\" rel=\"stylesheet\"/><link href=\"//storage.googleapis.com/code.getmdl.io/1.0.6/material.amber-orange.min.css\" rel=\"stylesheet\"/><link href=\"//static.taiwanstat.com/bower_components/semantic/dist/semantic.min.css\" rel=\"stylesheet\"/><link href=\"./css/main.css\" media=\"all\" rel=\"stylesheet\" type=\"text/css\"/><link href=\"css/style.css\" rel=\"stylesheet\" type=\"text/css\"/> <script async=\"\" src=\"//storage.googleapis.com/code.getmdl.io/1.0.6/material.min.js\"></script> <link href=\"https://fonts.googleapis.com/icon?family=Material+Icons\" rel=\"stylesheet\"/></head><body><div class=\"mdl-layout mdl-js-layout mdl-layout--fixed-header\" id=\"layout-header\"> <header class=\"mdl-layout__header\"><div class=\"mdl-layout__header-row\"><span class=\"mdl-layout-title\"><a href=\"https://www.taiwanstat.com/realtime/\"><img alt=\"logo\" class=\"round-logo\" src=\"https://static.taiwanstat.com/realtime/images/assert/round-logo.png\"/>用數據看台灣</a></span><div class=\"mdl-layout-spacer\"></div> <nav class=\"mdl-navigation mdl-layout--large-screen-only\"><a class=\"mdl-navigation__link\" href=\"https://www.taiwanstat.com/realtime/\">台灣開放即時資料</a> <a class=\"mdl-navigation__link\" href=\"https://www.taiwanstat.com/statistics/\">台灣開放統計資料</a> <a class=\"mdl-navigation__link\" href=\"https://www.taiwanstat.com/global/r/\">世界即時資訊</a> <a class=\"mdl-navigation__link\" href=\"https://www.taiwanstat.com/global/l/\">世界統計資訊</a> <a class=\"mdl-navigation__link\" href=\"https://taiwanstat.com/blog/opendata/\">開放資料分析部落格</a> <a class=\"mdl-navigation__link\" href=\"https://www.taiwanstat.com/about/\">關於我們</a></nav><div></div></div> </header><div class=\"mdl-layout__drawer\"><span class=\"mdl-layout-title\"><a href=\"https://www.taiwanstat.com/realtime/\"><img alt=\"logo\" class=\"round-logo\" src=\"https://static.taiwanstat.com/realtime/images/assert/round-logo.png\"/>用數據看台灣</a></span> <nav class=\"mdl-navigation\"><a class=\"mdl-navigation__link\" href=\"https://www.taiwanstat.com/realtime/\">台灣開放即時資料</a> <a class=\"mdl-navigation__link\" href=\"https://www.taiwanstat.com/statistics/\">台灣開放統計資料</a> <a class=\"mdl-navigation__link\" href=\"https://www.taiwanstat.com/global/r/\">世界即時資訊</a> <a class=\"mdl-navigation__link\" href=\"https://www.taiwanstat.com/global/l/\">世界統計資訊</a> <a class=\"mdl-navigation__link\" href=\"https://taiwanstat.com/blog/opendata/\">開放資料分析部落格</a> <a class=\"mdl-navigation__link\" href=\"https://www.taiwanstat.com/about/\">關於我們</a></nav></div> <main class=\"mdl-layout__content\" id=\"main-content\"><div class=\"main\"><div class=\"title__wrapper\"><h1 id=\"title\">台灣水庫即時水情</h1><div class=\"fb-plugin\"><div class=\"fb-like\" data-action=\"like\" data-href=\"http://water.taiwanstat.com/\" data-layout=\"standard\" data-share=\"true\" data-show-faces=\"true\" data-width=\"300px\"></div></div></div><div class=\"links\"> <button class=\"go-to\" onclick=\"window.location.href='#reservoir1'\">北部</button> <button class=\"go-to\" onclick=\"window.location.href='#reservoir6'\">中部</button> <button class=\"go-to\" onclick=\"window.location.href='#reservoir12'\">南部</button></div><ul class=\"note sml-hide\"><li class=\"data-src\">資料來源：<a href=\"http://www.wra.gov.tw/\">經濟部水利署</a></li><li>即時水情資料係自記儀器自動產生，未經人工完整檢驗，僅提供參考。</li><li>根據<a href=\"http://fhy.wra.gov.tw/ReservoirPage_2011/StorageCapacity.aspx\">水利署網頁</a>公布，各項水庫資料由各水庫管理單位在每日輸入，更新時間不一致。（部分水庫星期六、日之資料則在星期一統一輸入）</li><li class=\"red\">預測剩餘天數 = 即時有效蓄水量/昨日下降蓄水量。因降雨、用水量隨時間變化，預測結果僅提供參考。</li></ul><div class=\"reservoir-wrap\"><div class=\"reservoir\"><div class=\"name\"><h3>新山水庫(基隆)</h3></div> <svg height=\"250\" id=\"reservoir0\" width=\"100%\"></svg><div class=\"volumn\"><h5>7001.1萬立方公尺</h5></div><div class=\"state\"><h5>萬立方公尺</h5></div><div class=\"dueDay\"><h5>預測剩餘天數：----</h5></div><div class=\"updateAt\">更新時間：0000-00-00 (0時)</div></div><div class=\"reservoir\"><div class=\"name\"><h3>翡翠水庫(台北、新北)</h3></div> <svg height=\"250\" id=\"reservoir1\" width=\"100%\"></svg><div class=\"volumn\"><h5>26722.51萬立方公尺</h5></div><div class=\"state\"><h5>萬立方公尺</h5></div><div class=\"dueDay\"><h5>預測剩餘天數：----</h5></div><div class=\"updateAt\">更新時間：0000-00-00 (0時)</div></div><div class=\"reservoir\"><div class=\"name\"><h3>石門水庫(新北、桃園、新竹)</h3></div> <svg height=\"250\" id=\"reservoir2\" width=\"100%\"></svg><div class=\"volumn\"><h5>4025.63萬立方公尺</h5></div><div class=\"state\"><h5>萬立方公尺</h5></div><div class=\"dueDay\"><h5>預測剩餘天數：----</h5></div><div class=\"updateAt\">更新時間：0000-00-00 (0時)</div></div><div class=\"reservoir\"><div class=\"name\"><h3>永和山水庫(新竹、苗栗)</h3></div> <svg height=\"250\" id=\"reservoir3\" width=\"100%\"></svg><div class=\"volumn\"><h5>685.598萬立方公尺</h5></div><div class=\"state\"><h5>萬立方公尺</h5></div><div class=\"dueDay\"><h5>預測剩餘天數：----</h5></div><div class=\"updateAt\">更新時間：0000-00-00 (0時)</div></div><div class=\"reservoir\"><div class=\"name\"><h3>寶山水庫(新竹)</h3></div> <svg height=\"250\" id=\"reservoir20\" width=\"100%\"></svg><div class=\"volumn\"><h5>7001.1萬立方公尺</h5></div><div class=\"state\"><h5>萬立方公尺</h5></div><div class=\"dueDay\"><h5>預測剩餘天數：----</h5></div><div class=\"updateAt\">更新時間：0000-00-00 (0時)</div></div><div class=\"reservoir\"><div class=\"name\"><h3>寶山第二水庫(新竹)</h3></div> <svg height=\"250\" id=\"reservoir4\" width=\"100%\"></svg><div class=\"volumn\"><h5>7001.1萬立方公尺</h5></div><div class=\"state\"><h5>萬立方公尺</h5></div><div class=\"dueDay\"><h5>預測剩餘天數：----</h5></div><div class=\"updateAt\">更新時間：0000-00-00 (0時)</div></div><div class=\"reservoir\"><div class=\"name\"><h3>明德水庫(苗栗)</h3></div> <svg height=\"250\" id=\"reservoir5\" width=\"100%\"></svg><div class=\"volumn\"><h5>262.0316萬立方公尺</h5></div><div class=\"state\"><h5>萬立方公尺</h5></div><div class=\"dueDay\"><h5>預測剩餘天數：----</h5></div><div class=\"updateAt\">更新時間：0000-00-00 (0時)</div></div><div class=\"reservoir\"><div class=\"name\"><h3>鯉魚潭水庫(苗栗、台中)</h3></div> <svg height=\"250\" id=\"reservoir6\" width=\"100%\"></svg><div class=\"volumn\"><h5>9857.34萬立方公尺</h5></div><div class=\"state\"><h5>萬立方公尺</h5></div><div class=\"dueDay\"><h5>預測剩餘天數：----</h5></div><div class=\"updateAt\">更新時間：0000-00-00 (0時)</div></div><div class=\"reservoir\"><div class=\"name\"><h3>德基水庫(台中)</h3></div> <svg height=\"250\" id=\"reservoir7\" width=\"100%\"></svg><div class=\"volumn\"><h5>762.27萬立方公尺</h5></div><div class=\"state\"><h5>萬立方公尺</h5></div><div class=\"dueDay\"><h5>預測剩餘天數：----</h5></div><div class=\"updateAt\">更新時間：0000-00-00 (0時)</div></div><div class=\"reservoir\"><div class=\"name\"><h3>石岡壩(台中)</h3></div> <svg height=\"250\" id=\"reservoir8\" width=\"100%\"></svg><div class=\"volumn\"><h5>11486萬立方公尺</h5></div><div class=\"state\"><h5>萬立方公尺</h5></div><div class=\"dueDay\"><h5>預測剩餘天數：----</h5></div><div class=\"updateAt\">更新時間：0000-00-00 (0時)</div></div><div class=\"reservoir\"><div class=\"name\"><h3>日月潭水庫(南投)</h3></div> <svg height=\"250\" id=\"reservoir9\" width=\"100%\"></svg><div class=\"volumn\"><h5>5741萬立方公尺</h5></div><div class=\"state\"><h5>萬立方公尺</h5></div><div class=\"dueDay\"><h5>預測剩餘天數：----</h5></div><div class=\"updateAt\">更新時間：0000-00-00 (0時)</div></div><div class=\"reservoir\"><div class=\"name\"><h3>霧社水庫(南投)</h3></div> <svg height=\"250\" id=\"reservoir10\" width=\"100%\"></svg><div class=\"volumn\"><h5>3269.4萬立方公尺</h5></div><div class=\"state\"><h5>萬立方公尺</h5></div><div class=\"dueDay\"><h5>預測剩餘天數：----</h5></div><div class=\"updateAt\">更新時間：0000-00-00 (0時)</div></div><div class=\"reservoir\"><div class=\"name\"><h3>湖山水庫(雲林、彰化、嘉義)</h3></div> <svg height=\"250\" id=\"reservoir19\" width=\"100%\"></svg><div class=\"volumn\"><h5>820.884613萬立方公尺</h5></div><div class=\"state\"><h5>萬立方公尺</h5></div><div class=\"dueDay\"><h5>預測剩餘天數：----</h5></div><div class=\"updateAt\">更新時間：0000-00-00 (0時)</div></div><div class=\"reservoir\"><div class=\"name\"><h3>仁義潭水庫(嘉義)</h3></div> <svg height=\"250\" id=\"reservoir12\" width=\"100%\"></svg><div class=\"volumn\"><h5>820.884613萬立方公尺</h5></div><div class=\"state\"><h5>萬立方公尺</h5></div><div class=\"dueDay\"><h5>預測剩餘天數：----</h5></div><div class=\"updateAt\">更新時間：0000-00-00 (0時)</div></div><div class=\"reservoir\"><div class=\"name\"><h3>蘭潭水庫(嘉義)</h3></div> <svg height=\"250\" id=\"reservoir21\" width=\"100%\"></svg><div class=\"volumn\"><h5>1086.97萬立方公尺</h5></div><div class=\"state\"><h5>萬立方公尺</h5></div><div class=\"dueDay\"><h5>預測剩餘天數：----</h5></div><div class=\"updateAt\">更新時間：0000-00-00 (0時)</div></div><div class=\"reservoir\"><div class=\"name\"><h3>白河水庫(台南)</h3></div> <svg height=\"250\" id=\"reservoir13\" width=\"100%\"></svg><div class=\"volumn\"><h5>1086.97萬立方公尺</h5></div><div class=\"state\"><h5>萬立方公尺</h5></div><div class=\"dueDay\"><h5>預測剩餘天數：----</h5></div><div class=\"updateAt\">更新時間：0000-00-00 (0時)</div></div><div class=\"reservoir\"><div class=\"name\"><h3>曾文水庫(嘉義、台南)</h3></div> <svg height=\"250\" id=\"reservoir14\" width=\"100%\"></svg><div class=\"volumn\"><h5>1086.97萬立方公尺</h5></div><div class=\"state\"><h5>萬立方公尺</h5></div><div class=\"dueDay\"><h5>預測剩餘天數：----</h5></div><div class=\"updateAt\">更新時間：0000-00-00 (0時)</div></div><div class=\"reservoir\"><div class=\"name\"><h3>烏山頭水庫(台南)</h3></div> <svg height=\"250\" id=\"reservoir15\" width=\"100%\"></svg><div class=\"volumn\"><h5>1086.97萬立方公尺</h5></div><div class=\"state\"><h5>萬立方公尺</h5></div><div class=\"dueDay\"><h5>預測剩餘天數：----</h5></div><div class=\"updateAt\">更新時間：0000-00-00 (0時)</div></div><div class=\"reservoir\"><div class=\"name\"><h3>南化水庫(台南、高雄)</h3></div> <svg height=\"250\" id=\"reservoir16\" width=\"100%\"></svg><div class=\"volumn\"><h5>1086.97萬立方公尺</h5></div><div class=\"state\"><h5>萬立方公尺</h5></div><div class=\"dueDay\"><h5>預測剩餘天數：----</h5></div><div class=\"updateAt\">更新時間：0000-00-00 (0時)</div></div><div class=\"reservoir\"><div class=\"name\"><h3>阿公店水庫(高雄)</h3></div> <svg height=\"250\" id=\"reservoir17\" width=\"100%\"></svg><div class=\"volumn\"><h5>1086.97萬立方公尺</h5></div><div class=\"state\"><h5>萬立方公尺</h5></div><div class=\"dueDay\"><h5>預測剩餘天數：----</h5></div><div class=\"updateAt\">更新時間：0000-00-00 (0時)</div></div><div class=\"reservoir\"><div class=\"name\"><h3>牡丹水庫(屏東)</h3></div> <svg height=\"250\" id=\"reservoir18\" width=\"100%\"></svg><div class=\"volumn\"><h5>1086.97萬立方公尺</h5></div><div class=\"state\"><h5>萬立方公尺</h5></div><div class=\"dueDay\"><h5>預測剩餘天數：----</h5></div><div class=\"updateAt\">更新時間：0000-00-00 (0時)</div></div></div></div><div class=\"mdl-card mdl-shadow--2dp author\"><h4><a href=\"http://taiwanstat_members.cannerapp.com/\">About Author</a></h4> <img alt=\"logo\" class=\"ui circular image\" src=\"https://static.taiwanstat.com/realtime/images/assert/round-logo.png\"/><div class=\"author-info\"><h5>Chi-Hsuan Huang</h5></div></div><div class=\"license__wrapper\">\n",
      "<a href=\"http://creativecommons.org/licenses/by-nc-sa/4.0/\" rel=\"license\">\n",
      "<img alt=\"創用 CC 授權條款\" src=\"https://i.creativecommons.org/l/by-nc-sa/4.0/88x31.png\" style=\"border-width:0\"/></a><br/>本著作由<a href=\"http://www.taiwanstat.com\" property=\"cc:attributionName\" rel=\"cc:attributionURL\" xmlns:cc=\"http://creativecommons.org/ns#\">用數據看台灣團隊</a>製作，以<a href=\"http://creativecommons.org/licenses/by-nc-sa/4.0/\" rel=\"license\">創用CC 姓名標示-非商業性-相同方式分享 4.0 國際 授權條款</a>釋出。\n",
      "</div></main></div><div class=\"footer-mobile\"> <button class=\"scrollup mdl-button mdl-js-button mdl-button--fab mdl-js-ripple-effect mdl-button--colored mdl-shadow--2dp\" id=\"set\"><i class=\"material-icons\">keyboard_arrow_up</i></button></div> <footer class=\"mdl-mini-footer\"><div class=\"mdl-mini-footer__left-section\">©2021 <a href=\"https://www.taiwanstat.com/about/\">用數據看台灣</a>· <a href=\"https://www.facebook.com/taiwanstat/?fref=ts\"><i class=\"facebook square icon\"></i></a> · <a href=\"https://github.com/TaiwanStat\"><i class=\"github square icon\"></i></a></div><div class=\"mdl-mini-footer__right-section\"><span class=\"footer_msg\"><a href=\"https://www.buymeacoffee.com/taiwanstat\">歡迎贊助我們一杯咖啡！</a>意見回饋 </span>歡迎來信: <a href=\"mailto:service@taiwanstat.com\">service@taiwanstat.com</a></div> </footer><div id=\"fb-root\"></div> <script src=\"//cdnjs.cloudflare.com/ajax/libs/d3/3.5.9/d3.min.js\"></script> <script src=\"//ajax.googleapis.com/ajax/libs/jquery/2.1.3/jquery.min.js\"></script> <script src=\"js/liquidFillGauge.js\"></script> <script src=\"js/index.js\"></script> <script>!function(e,a,t,n,c,o,s){e.GoogleAnalyticsObject=c,e[c]=e[c]||function(){(e[c].q=e[c].q||[]).push(arguments)},e[c].l=1*new Date,o=a.createElement(t),s=a.getElementsByTagName(t)[0],o.async=1,o.src=n,s.parentNode.insertBefore(o,s)}(window,document,\"script\",\"//www.google-analytics.com/analytics.js\",\"ga\"),ga(\"create\",\"UA-61023469-1\",\"auto\"),ga(\"send\",\"pageview\")</script> <script>!function(e,t,n){var o,c=e.getElementsByTagName(t)[0];e.getElementById(n)||(o=e.createElement(t),o.id=n,o.src=\"//connect.facebook.net/zh_TW/sdk.js#xfbml=1&version=v2.5\",c.parentNode.insertBefore(o,c))}(document,\"script\",\"facebook-jssdk\")</script> <script src=\"//static.taiwanstat.com/js/main.min.js\"></script> </body></html>\n"
     ]
    },
    {
     "data": {
      "text/plain": [
       "bs4.BeautifulSoup"
      ]
     },
     "execution_count": 8,
     "metadata": {},
     "output_type": "execute_result"
    }
   ],
   "source": [
    "import requests\n",
    "from bs4 import BeautifulSoup\n",
    "\n",
    "url = 'https://water.taiwanstat.com/'\n",
    "res = requests.get(url)\n",
    "soup = BeautifulSoup(res.text, 'html.parser') # 轉換為標籤樹\n",
    "print(type(soup))\n",
    "print(soup)\n",
    "type(soup)\n"
   ]
  },
  {
   "cell_type": "code",
   "execution_count": 9,
   "metadata": {},
   "outputs": [
    {
     "name": "stdout",
     "output_type": "stream",
     "text": [
      "新山水庫(基隆) 7001.1萬立方公尺\n",
      "翡翠水庫(台北、新北) 26722.51萬立方公尺\n",
      "石門水庫(新北、桃園、新竹) 4025.63萬立方公尺\n",
      "永和山水庫(新竹、苗栗) 685.598萬立方公尺\n",
      "寶山水庫(新竹) 7001.1萬立方公尺\n",
      "寶山第二水庫(新竹) 7001.1萬立方公尺\n",
      "明德水庫(苗栗) 262.0316萬立方公尺\n",
      "鯉魚潭水庫(苗栗、台中) 9857.34萬立方公尺\n",
      "德基水庫(台中) 762.27萬立方公尺\n",
      "石岡壩(台中) 11486萬立方公尺\n",
      "日月潭水庫(南投) 5741萬立方公尺\n",
      "霧社水庫(南投) 3269.4萬立方公尺\n",
      "湖山水庫(雲林、彰化、嘉義) 820.884613萬立方公尺\n",
      "仁義潭水庫(嘉義) 820.884613萬立方公尺\n",
      "蘭潭水庫(嘉義) 1086.97萬立方公尺\n",
      "白河水庫(台南) 1086.97萬立方公尺\n",
      "曾文水庫(嘉義、台南) 1086.97萬立方公尺\n",
      "烏山頭水庫(台南) 1086.97萬立方公尺\n",
      "南化水庫(台南、高雄) 1086.97萬立方公尺\n",
      "阿公店水庫(高雄) 1086.97萬立方公尺\n",
      "牡丹水庫(屏東) 1086.97萬立方公尺\n"
     ]
    }
   ],
   "source": [
    "reservoirs = soup.find_all('div', class_='reservoir')\n",
    "# print(reservoirs)\n",
    "for r in reservoirs:\n",
    "    # name = r.find('div', class_='name').find('h3').get_text()\n",
    "    name = r.find('div', class_='name').get_text()\n",
    "    # volumn = r.find('div', class_='volumn').find('h5').get_text()\n",
    "    volumn = r.find('h5').get_text()\n",
    "    print(name, volumn)\n",
    "'''\n",
    "問題:\n",
    "實際爬蟲回傳的 h5.text 並非網頁所顯示的:有效蓄水量\n",
    "其他資料亦然 => 另尋真正的 url\n",
    "'''"
   ]
  },
  {
   "cell_type": "code",
   "execution_count": 2,
   "metadata": {},
   "outputs": [
    {
     "name": "stdout",
     "output_type": "stream",
     "text": [
      "<class 'list'>\n",
      "[{'寶山第二水庫': {'baseAvailable': '3147.18', 'id': 'reservoir4', 'updateAt': '2022-08-29(18時)', 'volumn': '3132.64', 'percentage': 99.5, 'daliyOverflow': '19.47', 'daliyInflow': '21.12', 'daliyNetflow': -1.6500000000000021, 'name': '寶山第二水庫'}, '日月潭水庫': {'baseAvailable': '12964.03', 'id': 'reservoir9', 'updateAt': '2022-08-29(7時)', 'volumn': '12260.12', 'percentage': 94.5, 'daliyOverflow': '45.53', 'daliyInflow': '31.97', 'daliyNetflow': 13.560000000000002, 'name': '日月潭水庫'}, '德基水庫': {'baseAvailable': '18642.00', 'id': 'reservoir7', 'updateAt': '2022-08-29(7時)', 'volumn': '16448.53', 'percentage': 88.2, 'daliyOverflow': '44.03', 'daliyInflow': '90.27', 'daliyNetflow': -46.239999999999995, 'name': '德基水庫'}, '翡翠水庫': {'baseAvailable': '33550.50', 'id': 'reservoir1', 'updateAt': '2022-08-29(17時)', 'volumn': '19942.10', 'percentage': 59.4, 'daliyOverflow': '244.00', 'daliyInflow': '34.00', 'daliyNetflow': 210, 'name': '翡翠水庫'}, '湖山水庫': {'name': '湖山水庫', 'id': 'reservoir19', 'updateAt': '2022-08-29(17時)', 'volumn': '5100.99', 'percentage': 100, 'daliyOverflow': '53.47', 'daliyInflow': '51.06', 'daliyNetflow': 2.4099999999999966, 'baseAvailable': '5086.51'}, '鯉魚潭水庫': {'baseAvailable': '11583.69', 'id': 'reservoir6', 'updateAt': '2022-08-29(18時)', 'volumn': '11166.36', 'percentage': 96.4, 'daliyOverflow': '85.18', 'daliyInflow': '68.08', 'daliyNetflow': 17.10000000000001, 'name': '鯉魚潭水庫'}, '烏山頭水庫': {'baseAvailable': '7911.40', 'id': 'reservoir15', 'updateAt': '2022-08-29(7時)', 'volumn': '4975.00', 'percentage': 62.8, 'daliyOverflow': '412.20', 'daliyInflow': '459.20', 'daliyNetflow': -47, 'name': '烏山頭水庫'}, '石門水庫': {'baseAvailable': '20526.01', 'id': 'reservoir2', 'updateAt': '2022-08-29(17時)', 'volumn': '15475.66', 'percentage': 75.4, 'daliyOverflow': '134.96', 'daliyInflow': '90.12', 'daliyNetflow': 44.84, 'name': '石門水庫'}, '蘭潭水庫': {'baseAvailable': '923.97', 'id': 'reservoir21', 'updateAt': '2022-08-29(7時)', 'volumn': '898.95', 'percentage': 97.2, 'daliyOverflow': '12.48', 'daliyInflow': '17.15', 'daliyNetflow': -4.669999999999998, 'name': '蘭潭水庫'}, '霧社水庫': {'baseAvailable': '3682.50', 'id': 'reservoir10', 'updateAt': '2022-08-29(7時)', 'volumn': '1695.96', 'percentage': 46, 'daliyOverflow': '0.00', 'daliyInflow': '34.35', 'daliyNetflow': -34.35, 'name': '霧社水庫'}, '南化水庫': {'baseAvailable': '8935.10', 'id': 'reservoir16', 'updateAt': '2022-08-29(7時)', 'volumn': '8930.09', 'percentage': 99.9, 'daliyOverflow': '110.70', 'daliyInflow': '156.10', 'daliyNetflow': -45.39999999999999, 'name': '南化水庫'}, '曾文水庫': {'baseAvailable': '50956.00', 'id': 'reservoir14', 'updateAt': '2022-08-29(17時)', 'volumn': '25038.00', 'percentage': 49.1, 'daliyOverflow': '446.60', 'daliyInflow': '169.90', 'daliyNetflow': 276.70000000000005, 'name': '曾文水庫'}, '白河水庫': {'baseAvailable': '1307.10', 'id': 'reservoir13', 'updateAt': '2022-08-29(8時)', 'volumn': '1021.00', 'percentage': 78.1, 'daliyOverflow': '22.65', 'daliyInflow': '17.65', 'daliyNetflow': 5, 'name': '白河水庫'}, '新山水庫': {'baseAvailable': '1002.00', 'id': 'reservoir0', 'updateAt': '2022-08-29(7時)', 'volumn': '362.90', 'percentage': 36.2, 'daliyOverflow': '10.76', 'daliyInflow': '0.06', 'daliyNetflow': 10.7, 'name': '新山水庫'}, '仁義潭水庫': {'baseAvailable': '2484.46', 'id': 'reservoir12', 'updateAt': '2022-08-29(7時)', 'volumn': '2447.67', 'percentage': 98.5, 'daliyOverflow': '31.05', 'daliyInflow': '40.23', 'daliyNetflow': -9.179999999999996, 'name': '仁義潭水庫'}, '寶山水庫': {'baseAvailable': '503.50', 'id': 'reservoir20', 'updateAt': '2022-08-29(7時)', 'volumn': '476.97', 'percentage': 94.7, 'daliyOverflow': '0.00', 'daliyInflow': '6.21', 'daliyNetflow': -6.21, 'name': '寶山水庫'}, '永和山水庫': {'baseAvailable': '2998.94', 'id': 'reservoir3', 'updateAt': '2022-08-29(18時)', 'volumn': '2937.53', 'percentage': 97.9, 'daliyOverflow': '15.80', 'daliyInflow': '22.90', 'daliyNetflow': -7.099999999999998, 'name': '永和山水庫'}, '阿公店水庫': {'baseAvailable': '1525.89', 'id': 'reservoir17', 'updateAt': '2022-08-29(17時)', 'volumn': '331.00', 'percentage': 21.6, 'daliyOverflow': '7.26', 'daliyInflow': '137.89', 'daliyNetflow': -130.63, 'name': '阿公店水庫'}, '明德水庫': {'baseAvailable': '1245.26', 'id': 'reservoir5', 'updateAt': '2022-08-29(7時)', 'volumn': '920.55', 'percentage': 73.9, 'daliyOverflow': '15.24', 'daliyInflow': '31.20', 'daliyNetflow': -15.959999999999999, 'name': '明德水庫'}, '石岡壩': {'baseAvailable': '160.54', 'id': 'reservoir8', 'updateAt': '2022-08-29(18時)', 'volumn': '66.40', 'percentage': 41.3, 'daliyOverflow': '214.40', 'daliyInflow': '195.10', 'daliyNetflow': 19.30000000000001, 'name': '石岡壩'}, '牡丹水庫': {'baseAvailable': '2652.17', 'id': 'reservoir18', 'updateAt': '2022-08-29(17時)', 'volumn': '1782.00', 'percentage': 67.1, 'daliyOverflow': '9.50', 'daliyInflow': '29.34', 'daliyNetflow': -19.84, 'name': '牡丹水庫'}}]\n"
     ]
    }
   ],
   "source": [
    "import requests \n",
    "from bs4 import BeautifulSoup\n",
    "\n",
    "# find latest.json 即時水情資訊\n",
    "url = 'https://www.taiwanstat.com/waters/latest'\n",
    "res = requests.get(url)\n",
    "\n",
    "data = res.json()\n",
    "print(type(data))\n",
    "print(data)"
   ]
  },
  {
   "cell_type": "code",
   "execution_count": 3,
   "metadata": {},
   "outputs": [
    {
     "name": "stdout",
     "output_type": "stream",
     "text": [
      "新山水庫 有效蓄水量：362.90 萬立方公尺 reservoir0\n",
      "翡翠水庫 有效蓄水量：19942.10 萬立方公尺 reservoir1\n",
      "石門水庫 有效蓄水量：15475.66 萬立方公尺 reservoir2\n",
      "永和山水庫 有效蓄水量：2937.53 萬立方公尺 reservoir3\n",
      "寶山第二水庫 有效蓄水量：3132.64 萬立方公尺 reservoir4\n",
      "明德水庫 有效蓄水量：920.55 萬立方公尺 reservoir5\n",
      "鯉魚潭水庫 有效蓄水量：11166.36 萬立方公尺 reservoir6\n",
      "德基水庫 有效蓄水量：16448.53 萬立方公尺 reservoir7\n",
      "石岡壩 有效蓄水量：66.40 萬立方公尺 reservoir8\n",
      "日月潭水庫 有效蓄水量：12260.12 萬立方公尺 reservoir9\n",
      "霧社水庫 有效蓄水量：1695.96 萬立方公尺 reservoir10\n",
      "仁義潭水庫 有效蓄水量：2447.67 萬立方公尺 reservoir12\n",
      "白河水庫 有效蓄水量：1021.00 萬立方公尺 reservoir13\n",
      "曾文水庫 有效蓄水量：25038.00 萬立方公尺 reservoir14\n",
      "烏山頭水庫 有效蓄水量：4975.00 萬立方公尺 reservoir15\n",
      "南化水庫 有效蓄水量：8930.09 萬立方公尺 reservoir16\n",
      "阿公店水庫 有效蓄水量：331.00 萬立方公尺 reservoir17\n",
      "牡丹水庫 有效蓄水量：1782.00 萬立方公尺 reservoir18\n",
      "湖山水庫 有效蓄水量：5100.99 萬立方公尺 reservoir19\n",
      "寶山水庫 有效蓄水量：476.97 萬立方公尺 reservoir20\n",
      "蘭潭水庫 有效蓄水量：898.95 萬立方公尺 reservoir21\n"
     ]
    }
   ],
   "source": [
    "# make list\n",
    "reservoirs = []\n",
    "for i in data[0].values():\n",
    "    name = i['name']\n",
    "    volumn = i['volumn']\n",
    "    id = i['id']\n",
    "    reservoirs.append([name, volumn, id])\n",
    "\n",
    "# sort by id number\n",
    "# way-1 : slicing\n",
    "# reservoirs.sort(key=lambda d: int(d[2][9:]))\n",
    "\n",
    "# way-2 : regex\n",
    "import re\n",
    "reservoirs.sort(key=lambda d: int(re.search(r'\\d+', d[2]).group()))\n",
    "\n",
    "for i in reservoirs:\n",
    "    print(i[0], f'有效蓄水量：{i[1]} 萬立方公尺', i[2])\n"
   ]
  }
 ],
 "metadata": {
  "kernelspec": {
   "display_name": "Python 3.10.4 ('venv': venv)",
   "language": "python",
   "name": "python3"
  },
  "language_info": {
   "codemirror_mode": {
    "name": "ipython",
    "version": 3
   },
   "file_extension": ".py",
   "mimetype": "text/x-python",
   "name": "python",
   "nbconvert_exporter": "python",
   "pygments_lexer": "ipython3",
   "version": "3.10.4"
  },
  "orig_nbformat": 4,
  "vscode": {
   "interpreter": {
    "hash": "09341d8997a166bf5f70b8ea38d7b540e9155d12c0abe13bf40b6cf07aff4c0f"
   }
  }
 },
 "nbformat": 4,
 "nbformat_minor": 2
}
